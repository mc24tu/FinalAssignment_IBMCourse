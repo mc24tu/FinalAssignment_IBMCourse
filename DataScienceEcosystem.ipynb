{
 "cells": [
  {
   "cell_type": "markdown",
   "id": "efb09d23",
   "metadata": {},
   "source": [
    "# Data Science Tools and Ecosystem\n"
   ]
  },
  {
   "cell_type": "markdown",
   "id": "20499422",
   "metadata": {},
   "source": [
    "In this notebook, Data Science Tools and Ecosystem are summarized."
   ]
  },
  {
   "cell_type": "markdown",
   "id": "3b1c21fe",
   "metadata": {},
   "source": [
    "**Objectives:**\n",
    "\n",
    "-Languages for Data Science\n",
    "\n",
    "-Libraries for Data Science\n",
    "\n",
    "-Examples of arithmetic expression in Phython\n",
    "\n",
    "## Author \n",
    "Martina Coffaro"
   ]
  },
  {
   "cell_type": "markdown",
   "id": "79ac7acf",
   "metadata": {},
   "source": [
    "Some of the popular languages that Data Scientists use are:\n",
    "+ Python\n",
    "+ R \n",
    "+ SQL"
   ]
  },
  {
   "cell_type": "markdown",
   "id": "14013aec",
   "metadata": {},
   "source": [
    "Some of the commonly used libraries used by Data Scientists include:\n",
    "+ Panda\n",
    "+ Numpy\n",
    "+ Matplotlib"
   ]
  },
  {
   "cell_type": "markdown",
   "id": "7202a2fb",
   "metadata": {},
   "source": [
    "| Data Science Tools |\n",
    "| --- |\n",
    "| Jupyter | \n",
    "| RStudio |\n",
    "| Spider |"
   ]
  },
  {
   "cell_type": "markdown",
   "id": "48e0d3c2",
   "metadata": {},
   "source": [
    " ### Below are a few examples of evaluating arithmetic expressions in Python\n",
    " \n",
    " 2+2 \n",
    " \n",
    " (20*2)+10"
   ]
  },
  {
   "cell_type": "code",
   "execution_count": 3,
   "id": "9dcc5c12",
   "metadata": {},
   "outputs": [
    {
     "data": {
      "text/plain": [
       "17"
      ]
     },
     "execution_count": 3,
     "metadata": {},
     "output_type": "execute_result"
    }
   ],
   "source": [
    "#This a simple arithmetic expression to mutiply then add integers\n",
    "(3*4)+5"
   ]
  },
  {
   "cell_type": "code",
   "execution_count": 5,
   "id": "5f2ba0e9",
   "metadata": {},
   "outputs": [
    {
     "data": {
      "text/plain": [
       "3.3333333333333335"
      ]
     },
     "execution_count": 5,
     "metadata": {},
     "output_type": "execute_result"
    }
   ],
   "source": [
    "#This will convert 200 minutes to hours by diving by 60\n",
    "min=200\n",
    "min/60"
   ]
  },
  {
   "cell_type": "code",
   "execution_count": null,
   "id": "646dcea8",
   "metadata": {},
   "outputs": [],
   "source": []
  }
 ],
 "metadata": {
  "kernelspec": {
   "display_name": "Python 3 (ipykernel)",
   "language": "python",
   "name": "python3"
  },
  "language_info": {
   "codemirror_mode": {
    "name": "ipython",
    "version": 3
   },
   "file_extension": ".py",
   "mimetype": "text/x-python",
   "name": "python",
   "nbconvert_exporter": "python",
   "pygments_lexer": "ipython3",
   "version": "3.9.12"
  }
 },
 "nbformat": 4,
 "nbformat_minor": 5
}
